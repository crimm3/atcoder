{
 "cells": [
  {
   "cell_type": "code",
   "execution_count": null,
   "metadata": {},
   "outputs": [],
   "source": [
    "1lI\n",
    "o0O\n",
    "あ井上お氏い\n",
    "aabbccddeess\n",
    "氏\n",
    "zz\n",
    "xx"
   ]
  },
  {
   "cell_type": "code",
   "execution_count": 4,
   "metadata": {},
   "outputs": [
    {
     "name": "stdin",
     "output_type": "stream",
     "text": [
      " a\n"
     ]
    },
    {
     "ename": "ValueError",
     "evalue": "invalid literal for int() with base 10: 'a'",
     "output_type": "error",
     "traceback": [
      "\u001b[0;31m---------------------------------------------------------------------------\u001b[0m",
      "\u001b[0;31mValueError\u001b[0m                                Traceback (most recent call last)",
      "\u001b[0;32m<ipython-input-4-b6f2303b3adb>\u001b[0m in \u001b[0;36m<module>\u001b[0;34m\u001b[0m\n\u001b[0;32m----> 1\u001b[0;31m \u001b[0ma\u001b[0m \u001b[0;34m=\u001b[0m \u001b[0mint\u001b[0m\u001b[0;34m(\u001b[0m\u001b[0minput\u001b[0m\u001b[0;34m(\u001b[0m\u001b[0;34m)\u001b[0m\u001b[0;34m)\u001b[0m\u001b[0;34m\u001b[0m\u001b[0;34m\u001b[0m\u001b[0m\n\u001b[0m\u001b[1;32m      2\u001b[0m \u001b[0mtmp\u001b[0m \u001b[0;34m=\u001b[0m \u001b[0minput\u001b[0m\u001b[0;34m(\u001b[0m\u001b[0;34m)\u001b[0m\u001b[0;34m.\u001b[0m\u001b[0msplit\u001b[0m\u001b[0;34m(\u001b[0m\u001b[0;34m' '\u001b[0m\u001b[0;34m)\u001b[0m\u001b[0;34m\u001b[0m\u001b[0;34m\u001b[0m\u001b[0m\n\u001b[1;32m      3\u001b[0m \u001b[0mb\u001b[0m\u001b[0;34m,\u001b[0m \u001b[0mc\u001b[0m \u001b[0;34m=\u001b[0m \u001b[0mint\u001b[0m\u001b[0;34m(\u001b[0m\u001b[0mtmp\u001b[0m\u001b[0;34m[\u001b[0m\u001b[0;36m0\u001b[0m\u001b[0;34m]\u001b[0m\u001b[0;34m)\u001b[0m\u001b[0;34m,\u001b[0m \u001b[0mint\u001b[0m\u001b[0;34m(\u001b[0m\u001b[0mtmp\u001b[0m\u001b[0;34m[\u001b[0m\u001b[0;36m1\u001b[0m\u001b[0;34m]\u001b[0m\u001b[0;34m)\u001b[0m\u001b[0;34m\u001b[0m\u001b[0;34m\u001b[0m\u001b[0m\n\u001b[1;32m      4\u001b[0m \u001b[0ms\u001b[0m \u001b[0;34m=\u001b[0m \u001b[0minput\u001b[0m\u001b[0;34m(\u001b[0m\u001b[0;34m)\u001b[0m\u001b[0;34m\u001b[0m\u001b[0;34m\u001b[0m\u001b[0m\n\u001b[1;32m      5\u001b[0m \u001b[0mprint\u001b[0m\u001b[0;34m(\u001b[0m\u001b[0;34m'{} {}'\u001b[0m\u001b[0;34m.\u001b[0m\u001b[0mformat\u001b[0m\u001b[0;34m(\u001b[0m\u001b[0ma\u001b[0m\u001b[0;34m+\u001b[0m\u001b[0mb\u001b[0m\u001b[0;34m+\u001b[0m\u001b[0mc\u001b[0m\u001b[0;34m,\u001b[0m \u001b[0ms\u001b[0m\u001b[0;34m)\u001b[0m\u001b[0;34m)\u001b[0m\u001b[0;34m\u001b[0m\u001b[0;34m\u001b[0m\u001b[0m\n",
      "\u001b[0;31mValueError\u001b[0m: invalid literal for int() with base 10: 'a'"
     ]
    }
   ],
   "source": [
    "a = int(input())\n",
    "tmp = input().split(' ')\n",
    "b, c = int(tmp[0]), int(tmp[1])\n",
    "s = input()\n",
    "print('{} {}'.format(a+b+c, s))"
   ]
  },
  {
   "cell_type": "markdown",
   "metadata": {},
   "source": [
    "ABC 086 A - Product"
   ]
  },
  {
   "cell_type": "code",
   "execution_count": 6,
   "metadata": {},
   "outputs": [
    {
     "name": "stdout",
     "output_type": "stream",
     "text": [
      "Even\n"
     ]
    }
   ],
   "source": [
    "a, b = map(int, input().split())\n",
    "ab = a * b\n",
    "if ab % 2:\n",
    "    print('Odd')\n",
    "else:\n",
    "    print('Even')"
   ]
  },
  {
   "cell_type": "markdown",
   "metadata": {},
   "source": [
    "ABC 081 A - Placing Marbles "
   ]
  },
  {
   "cell_type": "code",
   "execution_count": 10,
   "metadata": {},
   "outputs": [
    {
     "name": "stdin",
     "output_type": "stream",
     "text": [
      " 101\n"
     ]
    },
    {
     "name": "stdout",
     "output_type": "stream",
     "text": [
      "2\n"
     ]
    }
   ],
   "source": [
    "print(input().count('1'))"
   ]
  },
  {
   "cell_type": "markdown",
   "metadata": {},
   "source": [
    " ABC 081 B - Shift Only"
   ]
  },
  {
   "cell_type": "code",
   "execution_count": 17,
   "metadata": {},
   "outputs": [
    {
     "name": "stdin",
     "output_type": "stream",
     "text": [
      " 3\n",
      " 8 12 40\n"
     ]
    },
    {
     "name": "stdout",
     "output_type": "stream",
     "text": [
      "[8, 12, 40]\n",
      "2\n"
     ]
    }
   ],
   "source": [
    "def are_even(data):\n",
    "    return all([i % 2 == 0 for i in data])\n",
    "\n",
    "N = input()\n",
    "data = list(map(int, input().split()))\n",
    "count = 0\n",
    "while are_even(data):\n",
    "    data = [i/2 for i in data]\n",
    "    count += 1\n",
    "print(count)"
   ]
  },
  {
   "cell_type": "markdown",
   "metadata": {},
   "source": [
    "ABC 087 B - Coins "
   ]
  },
  {
   "cell_type": "code",
   "execution_count": 22,
   "metadata": {},
   "outputs": [
    {
     "name": "stdin",
     "output_type": "stream",
     "text": [
      " 30\n",
      " 40\n",
      " 50\n",
      " 6000\n"
     ]
    },
    {
     "name": "stdout",
     "output_type": "stream",
     "text": [
      "213\n",
      "CPU times: user 36.1 ms, sys: 3.08 ms, total: 39.2 ms\n",
      "Wall time: 8.06 s\n"
     ]
    }
   ],
   "source": [
    "%%time\n",
    "A = int(input())\n",
    "B = int(input())\n",
    "C = int(input())\n",
    "X = int(input())\n",
    "\n",
    "count = 0\n",
    "for a in range(A+1):\n",
    "    for b in range(B+1):\n",
    "        for c in range(C+1):\n",
    "            x = (a*500) + (b*100) + (c*50)\n",
    "            if x == X:\n",
    "                count += 1\n",
    "print(count)\n"
   ]
  },
  {
   "cell_type": "code",
   "execution_count": 4,
   "metadata": {},
   "outputs": [
    {
     "name": "stdin",
     "output_type": "stream",
     "text": [
      " 20 2 5\n"
     ]
    },
    {
     "name": "stdout",
     "output_type": "stream",
     "text": [
      "84\n"
     ]
    }
   ],
   "source": [
    "N, A, B = map(int, input().split())\n",
    "\n",
    "x = 0\n",
    "for n in range(1, N+1):\n",
    "    n_sum = 0\n",
    "    for i in str(n):\n",
    "        n_sum += int(i)\n",
    "    if A <= n_sum <= B:\n",
    "        x += n\n",
    "print(x)"
   ]
  },
  {
   "cell_type": "markdown",
   "metadata": {},
   "source": [
    "ABC 088 B - Card Game for Two "
   ]
  },
  {
   "cell_type": "code",
   "execution_count": 10,
   "metadata": {},
   "outputs": [
    {
     "name": "stdin",
     "output_type": "stream",
     "text": [
      " 4\n",
      " 20 18 2 18\n"
     ]
    },
    {
     "name": "stdout",
     "output_type": "stream",
     "text": [
      "18\n"
     ]
    }
   ],
   "source": [
    "N = int(input())\n",
    "A = list(map(int, input().split()))\n",
    "\n",
    "A.sort(reverse=True)\n",
    "Alice = sum(A[::2])\n",
    "Bob = sum(A[1::2])\n",
    "\n",
    "print(Alice - Bob)"
   ]
  },
  {
   "cell_type": "code",
   "execution_count": 11,
   "metadata": {},
   "outputs": [
    {
     "name": "stdout",
     "output_type": "stream",
     "text": [
      "Package                Version            \n",
      "---------------------- -------------------\n",
      "alembic                1.4.1              \n",
      "async-generator        1.10               \n",
      "attrs                  19.3.0             \n",
      "backcall               0.1.0              \n",
      "beautifulsoup4         4.8.2              \n",
      "bleach                 3.1.3              \n",
      "blinker                1.4                \n",
      "bokeh                  1.4.0              \n",
      "certifi                2019.11.28         \n",
      "certipy                0.1.3              \n",
      "cffi                   1.14.0             \n",
      "chardet                3.0.4              \n",
      "click                  7.1.1              \n",
      "cloudpickle            1.3.0              \n",
      "conda                  4.8.2              \n",
      "conda-package-handling 1.6.0              \n",
      "cryptography           2.8                \n",
      "cycler                 0.10.0             \n",
      "Cython                 0.29.15            \n",
      "cytoolz                0.10.1             \n",
      "dask                   2.11.0             \n",
      "decorator              4.4.2              \n",
      "defusedxml             0.6.0              \n",
      "dill                   0.3.1.1            \n",
      "distributed            2.12.0             \n",
      "entrypoints            0.3                \n",
      "fastprogress           0.2.3              \n",
      "fsspec                 0.6.2              \n",
      "h5py                   2.10.0             \n",
      "HeapDict               1.0.1              \n",
      "idna                   2.9                \n",
      "imageio                2.8.0              \n",
      "importlib-metadata     1.5.0              \n",
      "ipykernel              5.1.4              \n",
      "ipympl                 0.5.3              \n",
      "ipython                7.13.0             \n",
      "ipython-genutils       0.2.0              \n",
      "ipywidgets             7.5.1              \n",
      "japanize-matplotlib    1.0.5              \n",
      "jedi                   0.16.0             \n",
      "Jinja2                 2.11.1             \n",
      "joblib                 0.14.1             \n",
      "json5                  0.9.0              \n",
      "jsonschema             3.2.0              \n",
      "jupyter-client         6.0.0              \n",
      "jupyter-core           4.6.3              \n",
      "jupyter-telemetry      0.0.5              \n",
      "jupyterhub             1.1.0              \n",
      "jupyterlab             2.0.1              \n",
      "jupyterlab-server      1.0.7              \n",
      "kiwisolver             1.1.0              \n",
      "lightgbm               2.3.1              \n",
      "llvmlite               0.31.0             \n",
      "locket                 0.2.0              \n",
      "Mako                   1.1.0              \n",
      "MarkupSafe             1.1.1              \n",
      "matplotlib             3.1.3              \n",
      "mistune                0.8.4              \n",
      "mpmath                 1.1.0              \n",
      "msgpack                1.0.0              \n",
      "nbconvert              5.6.1              \n",
      "nbformat               5.0.4              \n",
      "networkx               2.4                \n",
      "notebook               6.0.3              \n",
      "numba                  0.48.0             \n",
      "numexpr                2.7.1              \n",
      "numpy                  1.18.1             \n",
      "oauthlib               3.0.1              \n",
      "olefile                0.46               \n",
      "packaging              20.1               \n",
      "pamela                 1.0.0              \n",
      "pandas                 1.0.2              \n",
      "pandocfilters          1.4.2              \n",
      "parso                  0.6.2              \n",
      "partd                  1.1.0              \n",
      "patsy                  0.5.1              \n",
      "pexpect                4.8.0              \n",
      "pickleshare            0.7.5              \n",
      "Pillow                 7.0.0              \n",
      "pip                    20.0.2             \n",
      "prometheus-client      0.7.1              \n",
      "prompt-toolkit         3.0.4              \n",
      "protobuf               3.11.4             \n",
      "psutil                 5.7.0              \n",
      "ptyprocess             0.6.0              \n",
      "pycosat                0.6.3              \n",
      "pycparser              2.20               \n",
      "pycurl                 7.43.0.5           \n",
      "Pygments               2.6.1              \n",
      "PyJWT                  1.7.1              \n",
      "pyOpenSSL              19.1.0             \n",
      "pyparsing              2.4.6              \n",
      "pyrsistent             0.15.7             \n",
      "PySocks                1.7.1              \n",
      "python-dateutil        2.8.1              \n",
      "python-editor          1.0.4              \n",
      "python-json-logger     0.1.11             \n",
      "pytz                   2019.3             \n",
      "PyWavelets             1.1.1              \n",
      "PyYAML                 5.3                \n",
      "pyzmq                  19.0.0             \n",
      "requests               2.23.0             \n",
      "rpy2                   3.1.0              \n",
      "ruamel-yaml            0.15.80            \n",
      "ruamel.yaml            0.16.6             \n",
      "ruamel.yaml.clib       0.2.0              \n",
      "scikit-image           0.16.2             \n",
      "scikit-learn           0.22.2.post1       \n",
      "scipy                  1.4.1              \n",
      "seaborn                0.10.0             \n",
      "Send2Trash             1.5.0              \n",
      "setuptools             46.0.0.post20200311\n",
      "simplegeneric          0.8.1              \n",
      "six                    1.14.0             \n",
      "sortedcontainers       2.1.0              \n",
      "soupsieve              1.9.4              \n",
      "SQLAlchemy             1.3.15             \n",
      "statsmodels            0.11.1             \n",
      "sympy                  1.5.1              \n",
      "tblib                  1.6.0              \n",
      "terminado              0.8.3              \n",
      "testpath               0.4.4              \n",
      "toolz                  0.10.0             \n",
      "tornado                6.0.4              \n",
      "tqdm                   4.43.0             \n",
      "traitlets              4.3.3              \n",
      "tzlocal                2.0.0              \n",
      "urllib3                1.25.7             \n",
      "vincent                0.4.4              \n",
      "wcwidth                0.1.8              \n",
      "webencodings           0.5.1              \n",
      "wheel                  0.34.2             \n",
      "widgetsnbextension     3.5.1              \n",
      "xgboost                1.0.2              \n",
      "xlrd                   1.2.0              \n",
      "zict                   2.0.0              \n",
      "zipp                   3.1.0              \n",
      "Note: you may need to restart the kernel to use updated packages.\n"
     ]
    }
   ],
   "source": [
    "pip list"
   ]
  }
 ],
 "metadata": {
  "kernelspec": {
   "display_name": "Python 3",
   "language": "python",
   "name": "python3"
  },
  "language_info": {
   "codemirror_mode": {
    "name": "ipython",
    "version": 3
   },
   "file_extension": ".py",
   "mimetype": "text/x-python",
   "name": "python",
   "nbconvert_exporter": "python",
   "pygments_lexer": "ipython3",
   "version": "3.7.6"
  }
 },
 "nbformat": 4,
 "nbformat_minor": 4
}
